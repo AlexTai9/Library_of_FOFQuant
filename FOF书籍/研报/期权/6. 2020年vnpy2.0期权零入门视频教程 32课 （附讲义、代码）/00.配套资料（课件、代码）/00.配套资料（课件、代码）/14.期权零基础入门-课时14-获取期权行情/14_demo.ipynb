{
 "cells": [
  {
   "cell_type": "markdown",
   "metadata": {},
   "source": [
    "该Jupyter Notebook用于展示如何使用ScriptTraderApp模块，在CLI命令行下进行交易指令的调用"
   ]
  },
  {
   "cell_type": "code",
   "execution_count": 1,
   "metadata": {},
   "outputs": [],
   "source": [
    "from vnpy.app.script_trader import init_cli_trading\n",
    "from vnpy.gateway.ctp import CtpGateway"
   ]
  },
  {
   "cell_type": "code",
   "execution_count": 2,
   "metadata": {},
   "outputs": [],
   "source": [
    "setting = {\n",
    "    \"用户名\": \"\",\n",
    "    \"密码\": \"\",\n",
    "    \"经纪商代码\": \"6010\",\n",
    "    \"交易服务器\": \"122.224.243.56:41305\",\n",
    "    \"行情服务器\": \"122.224.243.56:41313\",\n",
    "    \"产品名称\": \"vntech_vnpy_2.0\",\n",
    "    \"授权编码\": \"0Y1J5UIMY79BFL7S\",\n",
    "    \"产品信息\": \"\"\n",
    "}"
   ]
  },
  {
   "cell_type": "code",
   "execution_count": 3,
   "metadata": {},
   "outputs": [],
   "source": [
    "from vnpy.trader.utility import load_json\n",
    "setting = load_json(\"connect_ctp.json\")"
   ]
  },
  {
   "cell_type": "code",
   "execution_count": 4,
   "metadata": {},
   "outputs": [
    {
     "name": "stdout",
     "output_type": "stream",
     "text": [
      "2020-02-14 14:21:05.247010\t交易服务器连接成功\n",
      "2020-02-14 14:21:05.605392\t交易服务器授权验证成功\n",
      "2020-02-14 14:21:05.746035\t行情服务器连接成功\n",
      "2020-02-14 14:21:05.776289\t交易服务器登录成功\n",
      "2020-02-14 14:21:05.920828\t行情服务器登录成功\n",
      "2020-02-14 14:21:06.367130\t结算信息确认成功\n",
      "2020-02-14 14:21:44.006306\t合约信息查询成功\n"
     ]
    }
   ],
   "source": [
    "# 连接到服务器\n",
    "engine = init_cli_trading([CtpGateway])\n",
    "engine.connect_gateway(setting, \"CTP\")"
   ]
  },
  {
   "cell_type": "code",
   "execution_count": 5,
   "metadata": {},
   "outputs": [],
   "source": [
    "# 订阅行情\n",
    "engine.subscribe([\"IO2002-C-4000.CFFEX\"])"
   ]
  },
  {
   "cell_type": "code",
   "execution_count": 10,
   "metadata": {},
   "outputs": [
    {
     "name": "stdout",
     "output_type": "stream",
     "text": [
      "期权代码 IO2002-C-4000\n",
      "本地代码 IO2002-C-4000.CFFEX\n",
      "最新价 24.2\n",
      "卖一价 24.4\n",
      "买一价 24.2\n",
      "时间 2020-02-14 14:28:00.600000\n"
     ]
    }
   ],
   "source": [
    "# 查询行情\n",
    "tick = engine.get_tick(\"IO2002-C-4000.CFFEX\")\n",
    "# print(tick)\n",
    "\n",
    "print(\"期权代码\", tick.symbol)\n",
    "print(\"本地代码\", tick.vt_symbol)\n",
    "print(\"最新价\", tick.last_price)\n",
    "print(\"卖一价\", tick.ask_price_1)\n",
    "print(\"买一价\", tick.bid_price_1)\n",
    "print(\"时间\", tick.datetime)"
   ]
  },
  {
   "cell_type": "code",
   "execution_count": null,
   "metadata": {},
   "outputs": [],
   "source": []
  }
 ],
 "metadata": {
  "kernelspec": {
   "display_name": "Python 3",
   "language": "python",
   "name": "python3"
  },
  "language_info": {
   "codemirror_mode": {
    "name": "ipython",
    "version": 3
   },
   "file_extension": ".py",
   "mimetype": "text/x-python",
   "name": "python",
   "nbconvert_exporter": "python",
   "pygments_lexer": "ipython3",
   "version": "3.7.4"
  }
 },
 "nbformat": 4,
 "nbformat_minor": 2
}
