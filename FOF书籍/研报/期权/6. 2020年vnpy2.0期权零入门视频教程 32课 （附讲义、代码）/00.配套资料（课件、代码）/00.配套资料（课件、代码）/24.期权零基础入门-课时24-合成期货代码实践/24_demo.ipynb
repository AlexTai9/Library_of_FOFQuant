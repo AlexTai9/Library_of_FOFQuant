{
 "cells": [
  {
   "cell_type": "code",
   "execution_count": 1,
   "metadata": {},
   "outputs": [],
   "source": [
    "from vnpy.app.script_trader import init_cli_trading\n",
    "from vnpy.gateway.ctp import CtpGateway"
   ]
  },
  {
   "cell_type": "code",
   "execution_count": 2,
   "metadata": {
    "scrolled": true
   },
   "outputs": [
    {
     "name": "stdout",
     "output_type": "stream",
     "text": [
      "2020-03-27 14:30:55.721766\t交易服务器连接成功\n",
      "2020-03-27 14:30:55.736319\t行情服务器连接成功\n",
      "2020-03-27 14:30:55.790056\t交易服务器授权验证成功\n",
      "2020-03-27 14:30:55.806683\t行情服务器登录成功\n",
      "2020-03-27 14:30:55.823226\t交易服务器登录成功\n",
      "2020-03-27 14:30:55.890573\t结算信息确认成功\n",
      "2020-03-27 14:31:06.726037\t合约信息查询成功\n"
     ]
    }
   ],
   "source": [
    "# 连接到服务器\n",
    "from vnpy.trader.utility import load_json\n",
    "\n",
    "setting = load_json(\"connect_ctp.json\")\n",
    "engine = init_cli_trading([CtpGateway])\n",
    "engine.connect_gateway(setting, \"CTP\")"
   ]
  },
  {
   "cell_type": "code",
   "execution_count": 3,
   "metadata": {},
   "outputs": [
    {
     "name": "stdout",
     "output_type": "stream",
     "text": [
      "ContractData(gateway_name='CTP', symbol='IO2004-C-3700', exchange=<Exchange.CFFEX: 'CFFEX'>, name='IO2004-C-3700', product=<Product.OPTION: '期权'>, size=100, pricetick=0.2, min_volume=1, stop_supported=False, net_position=False, history_data=False, option_strike=3700.0, option_underlying='IO2004', option_type=<OptionType.CALL: '看涨期权'>, option_expiry=datetime.datetime(2020, 4, 17, 0, 0), option_portfolio='IO', option_index='3700.0')\n",
      "ContractData(gateway_name='CTP', symbol='IO2004-P-3700', exchange=<Exchange.CFFEX: 'CFFEX'>, name='IO2004-P-3700', product=<Product.OPTION: '期权'>, size=100, pricetick=0.2, min_volume=1, stop_supported=False, net_position=False, history_data=False, option_strike=3700.0, option_underlying='IO2004', option_type=<OptionType.PUT: '看跌期权'>, option_expiry=datetime.datetime(2020, 4, 17, 0, 0), option_portfolio='IO', option_index='3700.0')\n"
     ]
    }
   ],
   "source": [
    "strike = 3700\n",
    "call_symbol = f\"IO2004-C-{strike}.CFFEX\"\n",
    "put_symbol = f\"IO2004-P-{strike}.CFFEX\"\n",
    "vt_symbols = [call_symbol, put_symbol]\n",
    "\n",
    "for vt_symbol in vt_symbols:\n",
    "    contract = engine.get_contract(vt_symbol)\n",
    "    print(contract)"
   ]
  },
  {
   "cell_type": "code",
   "execution_count": 4,
   "metadata": {},
   "outputs": [],
   "source": [
    "# 订阅行情\n",
    "engine.subscribe(vt_symbols)"
   ]
  },
  {
   "cell_type": "code",
   "execution_count": 6,
   "metadata": {},
   "outputs": [
    {
     "name": "stdout",
     "output_type": "stream",
     "text": [
      "合成期货最新价格为： 3693.6\n"
     ]
    }
   ],
   "source": [
    "# 获取行情\n",
    "call_tick = engine.get_tick(call_symbol)\n",
    "put_tick = engine.get_tick(put_symbol)\n",
    "\n",
    "synthetic_last = call_tick.last_price - put_tick.last_price + strike\n",
    "print(\"合成期货最新价格为：\", synthetic_last)"
   ]
  },
  {
   "cell_type": "code",
   "execution_count": null,
   "metadata": {},
   "outputs": [
    {
     "name": "stdout",
     "output_type": "stream",
     "text": [
      "2020-03-27 14:37:47.237307 合成期货最新价格为： 3689.0\n",
      "2020-03-27 14:37:49.237341 合成期货最新价格为： 3689.0\n",
      "2020-03-27 14:37:51.241175 合成期货最新价格为： 3689.0\n",
      "2020-03-27 14:37:53.244636 合成期货最新价格为： 3689.0\n",
      "2020-03-27 14:37:55.245629 合成期货最新价格为： 3688.6\n",
      "2020-03-27 14:37:57.248516 合成期货最新价格为： 3688.8\n",
      "2020-03-27 14:37:59.251449 合成期货最新价格为： 3688.8\n",
      "2020-03-27 14:38:01.252940 合成期货最新价格为： 3688.8\n",
      "2020-03-27 14:38:03.254881 合成期货最新价格为： 3688.8\n",
      "2020-03-27 14:38:05.257822 合成期货最新价格为： 3688.8\n",
      "2020-03-27 14:38:07.258280 合成期货最新价格为： 3688.6\n",
      "2020-03-27 14:38:09.261245 合成期货最新价格为： 3688.6\n",
      "2020-03-27 14:38:11.264186 合成期货最新价格为： 3688.8\n",
      "2020-03-27 14:38:13.266722 合成期货最新价格为： 3688.8\n",
      "2020-03-27 14:38:15.268517 合成期货最新价格为： 3688.8\n",
      "2020-03-27 14:38:17.269545 合成期货最新价格为： 3688.8\n",
      "2020-03-27 14:38:19.271461 合成期货最新价格为： 3688.8\n",
      "2020-03-27 14:38:21.274388 合成期货最新价格为： 3688.8\n",
      "2020-03-27 14:38:23.275906 合成期货最新价格为： 3688.8\n",
      "2020-03-27 14:38:25.279743 合成期货最新价格为： 3688.8\n",
      "2020-03-27 14:38:27.282691 合成期货最新价格为： 3688.8\n"
     ]
    }
   ],
   "source": [
    "from time import sleep\n",
    "from datetime import datetime\n",
    "\n",
    "while True:\n",
    "    call_tick = engine.get_tick(call_symbol)\n",
    "    put_tick = engine.get_tick(put_symbol)\n",
    "\n",
    "    synthetic_last = call_tick.last_price - put_tick.last_price + strike\n",
    "    now = datetime.now()\n",
    "    print(str(now), \"合成期货最新价格为：\", synthetic_last)\n",
    "    sleep(2)"
   ]
  },
  {
   "cell_type": "code",
   "execution_count": null,
   "metadata": {},
   "outputs": [],
   "source": []
  }
 ],
 "metadata": {
  "kernelspec": {
   "display_name": "Python 3",
   "language": "python",
   "name": "python3"
  },
  "language_info": {
   "codemirror_mode": {
    "name": "ipython",
    "version": 3
   },
   "file_extension": ".py",
   "mimetype": "text/x-python",
   "name": "python",
   "nbconvert_exporter": "python",
   "pygments_lexer": "ipython3",
   "version": "3.7.4"
  }
 },
 "nbformat": 4,
 "nbformat_minor": 2
}
