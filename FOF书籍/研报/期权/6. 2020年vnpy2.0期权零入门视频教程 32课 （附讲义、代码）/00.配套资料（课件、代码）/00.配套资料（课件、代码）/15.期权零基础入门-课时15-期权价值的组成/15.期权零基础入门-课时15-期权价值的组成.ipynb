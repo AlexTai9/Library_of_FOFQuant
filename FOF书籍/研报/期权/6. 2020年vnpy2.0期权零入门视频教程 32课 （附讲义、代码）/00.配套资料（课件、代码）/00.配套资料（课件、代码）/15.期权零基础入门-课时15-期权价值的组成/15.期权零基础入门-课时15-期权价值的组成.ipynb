{
 "cells": [
  {
   "cell_type": "markdown",
   "metadata": {},
   "source": [
    "该Jupyter Notebook用于展示如何使用ScriptTraderApp模块，在CLI命令行下进行交易指令的调用"
   ]
  },
  {
   "cell_type": "code",
   "execution_count": 1,
   "metadata": {},
   "outputs": [],
   "source": [
    "from vnpy.app.script_trader import init_cli_trading\n",
    "from vnpy.gateway.ctp import CtpGateway"
   ]
  },
  {
   "cell_type": "code",
   "execution_count": 2,
   "metadata": {},
   "outputs": [],
   "source": [
    "setting = {\n",
    "    \"用户名\": \"\",\n",
    "    \"密码\": \"\",\n",
    "    \"经纪商代码\": \"6010\",\n",
    "    \"交易服务器\": \"122.224.243.56:41305\",\n",
    "    \"行情服务器\": \"122.224.243.56:41313\",\n",
    "    \"产品名称\": \"vntech_vnpy_2.0\",\n",
    "    \"授权编码\": \"0Y1J5UIMY79BFL7S\",\n",
    "    \"产品信息\": \"\"\n",
    "}"
   ]
  },
  {
   "cell_type": "code",
   "execution_count": 3,
   "metadata": {},
   "outputs": [],
   "source": [
    "from vnpy.trader.utility import load_json\n",
    "setting = load_json(\"connect_ctp.json\")"
   ]
  },
  {
   "cell_type": "code",
   "execution_count": 4,
   "metadata": {},
   "outputs": [
    {
     "name": "stdout",
     "output_type": "stream",
     "text": [
      "2020-02-14 14:35:25.605865\t交易服务器连接成功\n",
      "2020-02-14 14:35:25.925203\t交易服务器授权验证成功\n",
      "2020-02-14 14:35:26.027744\t交易服务器登录成功\n",
      "2020-02-14 14:35:26.495576\t行情服务器连接成功\n",
      "2020-02-14 14:35:26.776791\t行情服务器登录成功\n",
      "2020-02-14 14:35:26.914461\t结算信息确认成功\n",
      "2020-02-14 14:36:05.900355\t合约信息查询成功\n"
     ]
    }
   ],
   "source": [
    "# 连接到服务器\n",
    "engine = init_cli_trading([CtpGateway])\n",
    "engine.connect_gateway(setting, \"CTP\")"
   ]
  },
  {
   "cell_type": "code",
   "execution_count": 5,
   "metadata": {},
   "outputs": [
    {
     "name": "stdout",
     "output_type": "stream",
     "text": [
      "['IF2003.CFFEX', 'IO2003-C-3800.CFFEX', 'IO2003-C-3850.CFFEX', 'IO2003-C-3900.CFFEX', 'IO2003-C-3950.CFFEX', 'IO2003-C-4000.CFFEX', 'IO2003-C-4050.CFFEX', 'IO2003-C-4100.CFFEX', 'IO2003-C-4150.CFFEX']\n"
     ]
    }
   ],
   "source": [
    "# 订阅行情\n",
    "strike_prices = list(range(3800, 4200, 50))\n",
    "vt_symbols = [\"IF2003.CFFEX\"]\n",
    "\n",
    "for strike_price in strike_prices:\n",
    "    vt_symbol = f\"IO2003-C-{strike_price}.CFFEX\"\n",
    "    vt_symbols.append(vt_symbol)\n",
    "print(vt_symbols)\n",
    "engine.subscribe(vt_symbols)"
   ]
  },
  {
   "cell_type": "code",
   "execution_count": 10,
   "metadata": {},
   "outputs": [
    {
     "name": "stdout",
     "output_type": "stream",
     "text": [
      "-----------------------\n",
      "期权代码 IO2003-C-3800\n",
      "最新价 209.2\n",
      "标的价格 3964.8\n",
      "空间价值 164.80000000000018\n",
      "时间价值 44.39999999999981\n",
      "当前时间 14:44:34.100000\n",
      "-----------------------\n",
      "期权代码 IO2003-C-3850\n",
      "最新价 172.2\n",
      "标的价格 3964.8\n",
      "空间价值 114.80000000000018\n",
      "时间价值 57.39999999999981\n",
      "当前时间 14:44:33.600000\n",
      "-----------------------\n",
      "期权代码 IO2003-C-3900\n",
      "最新价 138.2\n",
      "标的价格 3964.8\n",
      "空间价值 64.80000000000018\n",
      "时间价值 73.3999999999998\n",
      "当前时间 14:44:34.100000\n",
      "-----------------------\n",
      "期权代码 IO2003-C-3950\n",
      "最新价 108.0\n",
      "标的价格 3964.8\n",
      "空间价值 14.800000000000182\n",
      "时间价值 93.19999999999982\n",
      "当前时间 14:44:33.600000\n",
      "-----------------------\n",
      "期权代码 IO2003-C-4000\n",
      "最新价 82.4\n",
      "标的价格 3964.8\n",
      "空间价值 0\n",
      "时间价值 82.4\n",
      "当前时间 14:44:33.600000\n",
      "-----------------------\n",
      "期权代码 IO2003-C-4050\n",
      "最新价 61.4\n",
      "标的价格 3964.8\n",
      "空间价值 0\n",
      "时间价值 61.4\n",
      "当前时间 14:44:34.100000\n",
      "-----------------------\n",
      "期权代码 IO2003-C-4100\n",
      "最新价 45.0\n",
      "标的价格 3964.8\n",
      "空间价值 0\n",
      "时间价值 45.0\n",
      "当前时间 14:44:34.100000\n",
      "-----------------------\n",
      "期权代码 IO2003-C-4150\n",
      "最新价 30.2\n",
      "标的价格 3964.8\n",
      "空间价值 0\n",
      "时间价值 30.2\n",
      "当前时间 14:44:34.100000\n"
     ]
    }
   ],
   "source": [
    "# 查询行情\n",
    "underlying_price = engine.get_tick(\"IF2003.CFFEX\").last_price\n",
    "\n",
    "for strike_price in strike_prices:\n",
    "    vt_symbol = f\"IO2003-C-{strike_price}.CFFEX\"\n",
    "    tick = engine.get_tick(vt_symbol)\n",
    "    \n",
    "    if tick:        \n",
    "        space_value = max(underlying_price - strike_price, 0)\n",
    "        time_value = tick.last_price - space_value\n",
    "        \n",
    "        print(\"-----------------------\")\n",
    "        print(\"期权代码\", tick.symbol)\n",
    "        print(\"最新价\", tick.last_price)\n",
    "        print(\"标的价格\", underlying_price)\n",
    "        print(\"空间价值\", space_value)\n",
    "        print(\"时间价值\", time_value)\n",
    "        print(\"当前时间\", tick.datetime.strftime(\"%H:%M:%S.%f\"))\n",
    "        \n",
    "        if time_value < 0:\n",
    "            print(\"有套利机会\", time_value)"
   ]
  },
  {
   "cell_type": "code",
   "execution_count": null,
   "metadata": {},
   "outputs": [],
   "source": []
  }
 ],
 "metadata": {
  "kernelspec": {
   "display_name": "Python 3",
   "language": "python",
   "name": "python3"
  },
  "language_info": {
   "codemirror_mode": {
    "name": "ipython",
    "version": 3
   },
   "file_extension": ".py",
   "mimetype": "text/x-python",
   "name": "python",
   "nbconvert_exporter": "python",
   "pygments_lexer": "ipython3",
   "version": "3.7.4"
  }
 },
 "nbformat": 4,
 "nbformat_minor": 2
}
